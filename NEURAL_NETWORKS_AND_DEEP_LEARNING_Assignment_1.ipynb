{
  "nbformat": 4,
  "nbformat_minor": 0,
  "metadata": {
    "colab": {
      "name": "NEURAL NETWORKS AND DEEP LEARNING Assignment 1.ipynb",
      "provenance": [],
      "collapsed_sections": []
    },
    "kernelspec": {
      "name": "python3",
      "display_name": "Python 3"
    },
    "language_info": {
      "name": "python"
    }
  },
  "cells": [
    {
      "cell_type": "markdown",
      "source": [
        "CST 395 -CSE Neural Networks and Deep Learning Assignment 1<br>\n",
        "Submiited by: Thomas Ajai<br>\n",
        "              S5 CSE<br>\n",
        "              Roll no: 62 <br>\n",
        "              TVE19CS064<br>\n"
      ],
      "metadata": {
        "id": "po_8-VdSEiKc"
      }
    },
    {
      "cell_type": "markdown",
      "source": [
        "[github link](https://github.com/thomasajai001/Artificial-Neural-Network---Mnist-dataset)\n",
        "\n",
        "\n",
        "\n",
        "[colab link](https://colab.research.google.com/drive/10RqXk3OEPv0tlqhB-bkI1bh-iAD3eXkW)"
      ],
      "metadata": {
        "id": "BlRzcWndLkh6"
      }
    },
    {
      "cell_type": "markdown",
      "source": [
        "Importing necessary libraries"
      ],
      "metadata": {
        "id": "i-EBz1P4Es5-"
      }
    },
    {
      "cell_type": "code",
      "execution_count": null,
      "metadata": {
        "id": "_lXwvi_TrcK1"
      },
      "outputs": [],
      "source": [
        "import numpy as np\n",
        "import matplotlib.pyplot as plt\n",
        "from keras.layers import Dense, Flatten\n",
        "from keras.models import Sequential\n",
        "from tensorflow import keras\n",
        "from tensorflow.keras.utils import to_categorical\n",
        "from tensorflow.keras.optimizers import Adam\n",
        "from keras.datasets import mnist"
      ]
    },
    {
      "cell_type": "markdown",
      "source": [
        "Loading the mnist dataset"
      ],
      "metadata": {
        "id": "uCRLtNc5Eyxo"
      }
    },
    {
      "cell_type": "code",
      "source": [
        "# Load MNIST handwritten digit data\n",
        "(X_train, y_train), (X_test, y_test) = mnist.load_data()"
      ],
      "metadata": {
        "id": "pSju9nhyrq9o"
      },
      "execution_count": null,
      "outputs": []
    },
    {
      "cell_type": "markdown",
      "source": [
        "Size of the training dataset"
      ],
      "metadata": {
        "id": "ubiFQZ0oE23h"
      }
    },
    {
      "cell_type": "code",
      "source": [
        "print(X_train.shape)\n",
        "print(X_test.shape)"
      ],
      "metadata": {
        "colab": {
          "base_uri": "https://localhost:8080/"
        },
        "id": "8bvh34ogrrpI",
        "outputId": "999e7477-391b-43d2-b444-f9e490ee05e0"
      },
      "execution_count": null,
      "outputs": [
        {
          "output_type": "stream",
          "name": "stdout",
          "text": [
            "(60000, 28, 28)\n",
            "(10000, 28, 28)\n"
          ]
        }
      ]
    },
    {
      "cell_type": "markdown",
      "source": [
        "Size of the testing dataset"
      ],
      "metadata": {
        "id": "NFdmJ4nfE6vB"
      }
    },
    {
      "cell_type": "code",
      "source": [
        "print(y_train.shape)\n",
        "print(y_test.shape)"
      ],
      "metadata": {
        "colab": {
          "base_uri": "https://localhost:8080/"
        },
        "id": "V9PVPV-Trtr0",
        "outputId": "8aeb1aec-15db-49c4-88e3-78d169d889c3"
      },
      "execution_count": null,
      "outputs": [
        {
          "output_type": "stream",
          "name": "stdout",
          "text": [
            "(60000,)\n",
            "(10000,)\n"
          ]
        }
      ]
    },
    {
      "cell_type": "code",
      "source": [
        "# Display some images\n",
        "fig, axes = plt.subplots(ncols=5,nrows=2, sharex=False, \n",
        "    sharey=True, figsize=(10, 4))\n",
        "for i in range(10):\n",
        "    x=i%2\n",
        "    y=i%5\n",
        "\n",
        "    axes[x,y].set_title(y_train[i])\n",
        "    axes[x,y].imshow(X_train[i], cmap='gray')\n",
        "    axes[x,y].get_xaxis().set_visible(False)\n",
        "    axes[x,y].get_yaxis().set_visible(False)\n",
        "plt.show()"
      ],
      "metadata": {
        "colab": {
          "base_uri": "https://localhost:8080/",
          "height": 265
        },
        "id": "MrVJA2Q_rvNd",
        "outputId": "afdc117c-cd08-46fd-ec2f-622e330e7ffe"
      },
      "execution_count": null,
      "outputs": [
        {
          "output_type": "display_data",
          "data": {
            "image/png": "[encoded data removed]",
            "text/plain": [
              "<Figure size 720x288 with 10 Axes>"
            ]
          },
          "metadata": {
            "needs_background": "light"
          }
        }
      ]
    },
    {
      "cell_type": "code",
      "source": [
        "# Convert y_train into one-hot format\n",
        "temp = []\n",
        "for i in range(len(y_train)):\n",
        "    temp.append(to_categorical(y_train[i], num_classes=10))\n",
        "y_train = np.array(temp)\n",
        "# Convert y_test into one-hot format\n",
        "temp = []\n",
        "for i in range(len(y_test)):    \n",
        "    temp.append(to_categorical(y_test[i], num_classes=10))\n",
        "y_test = np.array(temp)"
      ],
      "metadata": {
        "id": "V9NQ7PaQtMnd"
      },
      "execution_count": null,
      "outputs": []
    },
    {
      "cell_type": "markdown",
      "source": [
        "### 1st Model"
      ],
      "metadata": {
        "id": "khy71kDuFB4A"
      }
    },
    {
      "cell_type": "code",
      "source": [
        "# Create simple Neural Network model\n",
        "def model_1():\n",
        "  model = Sequential()\n",
        "  model.add(Flatten(input_shape=(28,28)))\n",
        "  model.add(Dense(80, activation='relu'))\n",
        "  model.add(Dense(10, activation='softmax'))\n",
        "  opt = Adam(learning_rate=0.01)\n",
        "\n",
        "  # model.summary()\n",
        "\n",
        "  model.compile(loss='categorical_crossentropy', \n",
        "                optimizer='adam',\n",
        "                metrics=['acc'])\n",
        "  return model"
      ],
      "metadata": {
        "id": "YO1HJ89etVJf"
      },
      "execution_count": null,
      "outputs": []
    },
    {
      "cell_type": "code",
      "source": [
        "# evaluate a model using k-fold cross-validation\n",
        "def evaluate_model(modelX):\n",
        "    scores = list()\n",
        "    # define model\n",
        "    model = modelX()\n",
        "    print(model.summary())\n",
        "    # fit model\n",
        "    history = model.fit(X_train, y_train, epochs=10, batch_size=32, validation_data=(X_test, y_test), verbose=1)\n",
        "    # evaluate model\n",
        "    _, acc = model.evaluate(X_test, y_test, verbose=1)\n",
        "    print('Validation Accuarcy %.3f' % (acc * 100.0))\n",
        "    # stores scores\n",
        "    scores.append(acc)\n",
        "    return scores, history"
      ],
      "metadata": {
        "id": "h9-QFlOjl-oN"
      },
      "execution_count": null,
      "outputs": []
    },
    {
      "cell_type": "code",
      "source": [
        "# summarize history for accuracy\n",
        "def plot(history):\n",
        "  plt.plot(history.history['acc'])\n",
        "  plt.plot(history.history['val_acc'])\n",
        "  plt.title('model accuracy')\n",
        "  plt.ylabel('accuracy')\n",
        "  plt.xlabel('epoch')\n",
        "  plt.legend(['train', 'test'], loc='upper left')\n",
        "  plt.show()"
      ],
      "metadata": {
        "id": "lO37eicQtf98"
      },
      "execution_count": null,
      "outputs": []
    },
    {
      "cell_type": "markdown",
      "source": [
        "Evaluating the 1st model"
      ],
      "metadata": {
        "id": "YBr3VgJ-FLOX"
      }
    },
    {
      "cell_type": "code",
      "source": [
        "scores, history = evaluate_model(model_1)"
      ],
      "metadata": {
        "colab": {
          "base_uri": "https://localhost:8080/"
        },
        "id": "xFpqzyqP5qXL",
        "outputId": "c680bf8a-4ea1-48f3-c1f7-c60372d75841"
      },
      "execution_count": null,
      "outputs": [
        {
          "output_type": "stream",
          "name": "stdout",
          "text": [
            "Model: \"sequential_10\"\n",
            "_________________________________________________________________\n",
            " Layer (type)                Output Shape              Param #   \n",
            "=================================================================\n",
            " flatten_10 (Flatten)        (None, 784)               0         \n",
            "                                                                 \n",
            " dense_22 (Dense)            (None, 80)                62800     \n",
            "                                                                 \n",
            " dense_23 (Dense)            (None, 10)                810       \n",
            "                                                                 \n",
            "=================================================================\n",
            "Total params: 63,610\n",
            "Trainable params: 63,610\n",
            "Non-trainable params: 0\n",
            "_________________________________________________________________\n",
            "None\n",
            "Epoch 1/10\n",
            "1875/1875 [==============================] - 5s 3ms/step - loss: 2.3267 - acc: 0.8367 - val_loss: 0.4723 - val_acc: 0.8873\n",
            "Epoch 2/10\n",
            "1875/1875 [==============================] - 4s 2ms/step - loss: 0.4021 - acc: 0.9017 - val_loss: 0.3093 - val_acc: 0.9260\n",
            "Epoch 3/10\n",
            "1875/1875 [==============================] - 4s 2ms/step - loss: 0.2969 - acc: 0.9247 - val_loss: 0.2922 - val_acc: 0.9320\n",
            "Epoch 4/10\n",
            "1875/1875 [==============================] - 5s 2ms/step - loss: 0.2514 - acc: 0.9339 - val_loss: 0.2741 - val_acc: 0.9389\n",
            "Epoch 5/10\n",
            "1875/1875 [==============================] - 4s 2ms/step - loss: 0.2380 - acc: 0.9386 - val_loss: 0.2591 - val_acc: 0.9415\n",
            "Epoch 6/10\n",
            "1875/1875 [==============================] - 4s 2ms/step - loss: 0.2153 - acc: 0.9441 - val_loss: 0.3387 - val_acc: 0.9217\n",
            "Epoch 7/10\n",
            "1875/1875 [==============================] - 4s 2ms/step - loss: 0.2110 - acc: 0.9457 - val_loss: 0.2818 - val_acc: 0.9448\n",
            "Epoch 8/10\n",
            "1875/1875 [==============================] - 4s 2ms/step - loss: 0.2047 - acc: 0.9475 - val_loss: 0.2408 - val_acc: 0.9420\n",
            "Epoch 9/10\n",
            "1875/1875 [==============================] - 4s 2ms/step - loss: 0.1945 - acc: 0.9490 - val_loss: 0.2589 - val_acc: 0.9500\n",
            "Epoch 10/10\n",
            "1875/1875 [==============================] - 4s 2ms/step - loss: 0.1929 - acc: 0.9514 - val_loss: 0.2739 - val_acc: 0.9395\n",
            "313/313 [==============================] - 0s 2ms/step - loss: 0.2739 - acc: 0.9395\n",
            "Validation Accuarcy 93.950\n"
          ]
        }
      ]
    },
    {
      "cell_type": "markdown",
      "source": [
        "#### Plot Accuracy vs Epoch chart for Model 1"
      ],
      "metadata": {
        "id": "P41WfJicFcp6"
      }
    },
    {
      "cell_type": "code",
      "source": [
        "plot(history)"
      ],
      "metadata": {
        "id": "HV5VrXT2tada",
        "colab": {
          "base_uri": "https://localhost:8080/",
          "height": 295
        },
        "outputId": "1d1a560c-b937-4a4c-b6fb-65a2fe1f8916"
      },
      "execution_count": null,
      "outputs": [
        {
          "output_type": "display_data",
          "data": {
            "image/png": "[encoded data removed]",
            "text/plain": [
              "<Figure size 432x288 with 1 Axes>"
            ]
          },
          "metadata": {
            "needs_background": "light"
          }
        }
      ]
    },
    {
      "cell_type": "code",
      "source": [
        ""
      ],
      "metadata": {
        "id": "uKL6rllN6bIr"
      },
      "execution_count": null,
      "outputs": []
    },
    {
      "cell_type": "code",
      "source": [
        ""
      ],
      "metadata": {
        "id": "pDcWXY0y9Etz"
      },
      "execution_count": null,
      "outputs": []
    },
    {
      "cell_type": "code",
      "source": [
        ""
      ],
      "metadata": {
        "id": "pSU0CjTD9EwH"
      },
      "execution_count": null,
      "outputs": []
    },
    {
      "cell_type": "markdown",
      "source": [
        "### 2nd Model"
      ],
      "metadata": {
        "id": "l3j1c0evFQgM"
      }
    },
    {
      "cell_type": "code",
      "source": [
        "# Create simple Neural Network model\n",
        "def model_2():\n",
        "  model = Sequential()\n",
        "  model.add(Flatten(input_shape=(28,28)))\n",
        "  model.add(Dense(50, activation='relu'))\n",
        "  model.add(Dense(50, activation='sigmoid'))\n",
        "  model.add(Dense(10, activation='softmax'))\n",
        "  opt = Adam(learning_rate=0.01)\n",
        "\n",
        "  # model.summary()\n",
        "\n",
        "  model.compile(loss='categorical_crossentropy', \n",
        "                optimizer='adam',\n",
        "                metrics=['acc'])\n",
        "  return model"
      ],
      "metadata": {
        "id": "pORYBwpV9Eyb"
      },
      "execution_count": null,
      "outputs": []
    },
    {
      "cell_type": "code",
      "source": [
        "scores, history = evaluate_model(model_2)"
      ],
      "metadata": {
        "colab": {
          "base_uri": "https://localhost:8080/"
        },
        "id": "4dfrkKpW9E0p",
        "outputId": "944fc0f1-08b0-48e6-fd10-a99f261df44a"
      },
      "execution_count": null,
      "outputs": [
        {
          "output_type": "stream",
          "name": "stdout",
          "text": [
            "Model: \"sequential_9\"\n",
            "_________________________________________________________________\n",
            " Layer (type)                Output Shape              Param #   \n",
            "=================================================================\n",
            " flatten_9 (Flatten)         (None, 784)               0         \n",
            "                                                                 \n",
            " dense_19 (Dense)            (None, 50)                39250     \n",
            "                                                                 \n",
            " dense_20 (Dense)            (None, 50)                2550      \n",
            "                                                                 \n",
            " dense_21 (Dense)            (None, 10)                510       \n",
            "                                                                 \n",
            "=================================================================\n",
            "Total params: 42,310\n",
            "Trainable params: 42,310\n",
            "Non-trainable params: 0\n",
            "_________________________________________________________________\n",
            "None\n",
            "Epoch 1/10\n",
            "1875/1875 [==============================] - 5s 2ms/step - loss: 0.5968 - acc: 0.8368 - val_loss: 0.3005 - val_acc: 0.9126\n",
            "Epoch 2/10\n",
            "1875/1875 [==============================] - 5s 3ms/step - loss: 0.2952 - acc: 0.9139 - val_loss: 0.2561 - val_acc: 0.9208\n",
            "Epoch 3/10\n",
            "1875/1875 [==============================] - 4s 2ms/step - loss: 0.2668 - acc: 0.9217 - val_loss: 0.2566 - val_acc: 0.9240\n",
            "Epoch 4/10\n",
            "1875/1875 [==============================] - 4s 2ms/step - loss: 0.2390 - acc: 0.9289 - val_loss: 0.2335 - val_acc: 0.9315\n",
            "Epoch 5/10\n",
            "1875/1875 [==============================] - 4s 2ms/step - loss: 0.2360 - acc: 0.9298 - val_loss: 0.2179 - val_acc: 0.9351\n",
            "Epoch 6/10\n",
            "1875/1875 [==============================] - 4s 2ms/step - loss: 0.2277 - acc: 0.9329 - val_loss: 0.2477 - val_acc: 0.9266\n",
            "Epoch 7/10\n",
            "1875/1875 [==============================] - 4s 2ms/step - loss: 0.2153 - acc: 0.9358 - val_loss: 0.2120 - val_acc: 0.9388\n",
            "Epoch 8/10\n",
            "1875/1875 [==============================] - 4s 2ms/step - loss: 0.2009 - acc: 0.9410 - val_loss: 0.2292 - val_acc: 0.9332\n",
            "Epoch 9/10\n",
            "1875/1875 [==============================] - 4s 2ms/step - loss: 0.2080 - acc: 0.9377 - val_loss: 0.2154 - val_acc: 0.9336\n",
            "Epoch 10/10\n",
            "1875/1875 [==============================] - 4s 2ms/step - loss: 0.1984 - acc: 0.9420 - val_loss: 0.1804 - val_acc: 0.9454\n",
            "313/313 [==============================] - 0s 1ms/step - loss: 0.1804 - acc: 0.9454\n",
            "Validation Accuarcy 94.540\n"
          ]
        }
      ]
    },
    {
      "cell_type": "markdown",
      "source": [
        "#### Plot Accuracy vs Epoch chart for Model 2"
      ],
      "metadata": {
        "id": "ZDPnnb51FZ_6"
      }
    },
    {
      "cell_type": "code",
      "source": [
        "plot(history)"
      ],
      "metadata": {
        "colab": {
          "base_uri": "https://localhost:8080/",
          "height": 295
        },
        "id": "-FVgbYWj9E28",
        "outputId": "75309db2-f1d9-4f5d-f2a0-34512adf0285"
      },
      "execution_count": null,
      "outputs": [
        {
          "output_type": "display_data",
          "data": {
            "image/png": "[encoded data removed]",
            "text/plain": [
              "<Figure size 432x288 with 1 Axes>"
            ]
          },
          "metadata": {
            "needs_background": "light"
          }
        }
      ]
    }
  ]
}